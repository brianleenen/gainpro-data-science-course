{
 "cells": [
  {
   "cell_type": "markdown",
   "metadata": {},
   "source": [
    "# Background\n",
    "\n",
    "### What is a database\n",
    "- Allows us to store, manipulate and retrieve data\n",
    "- Often stored on a computer server\n",
    "\n",
    "### Relational databases and SQL\n",
    "- Relational databases: Data is represented as consisting of tuples, which are grouped into *relations*\n",
    "- SQL (Structured Query Language): a querying language used to query/maintain relational databases\n",
    "- In SQL, relations are represented as tables: rows are tuples (\"entries\") and columns are attributes (\"variables\")\n",
    "- SQL is old: introduced in 1974 as SEQUEL\n",
    "\n",
    "### PostgreSQL\n",
    "- Postgres: A relational database management system (RDBMS)\n",
    "- Other (proprietary) examples: Oracle Database, MySQL, Microsoft SQL Server, ...\n",
    "- RDBMSs are not compatible in general, but have a LOT in common"
   ]
  },
  {
   "cell_type": "markdown",
   "metadata": {},
   "source": [
    "![relation_image](relational_database.png)"
   ]
  },
  {
   "cell_type": "markdown",
   "metadata": {},
   "source": [
    "# Writing queries\n",
    "\n",
    "### Styling and some key conventions\n",
    "- Difference between readable/unreadable code, although the computer does not care\n",
    "- Reserved keywords ('instructions') are written in ALL CAPS\n",
    "- Table and attribute names are in all lower case, underscores as spaces\n",
    "- Use indentation/white space/line breaks generously, for longer queries this makes a world of difference\n",
    "\n",
    "### Things I often forgot, especially in the beginning\n",
    "- Separate arguments within a single instruction by commas\n",
    "- Strings are indicated by a *single* quote on each side ('a string'). Double quotes cause errors, at least in PostgreSQL\n",
    "- Equality testing involves a *single* equality sign: 3 = 4 is false, 3 == 4 causes an error\n",
    "- Every query ends with a semicolon\n",
    "\n",
    "Example from https://www.sqlstyle.guide/:"
   ]
  },
  {
   "cell_type": "code",
   "execution_count": null,
   "metadata": {},
   "outputs": [],
   "source": [
    "select f.species_name, avg(f.height) as average_height, avg(f.diameter) as average_diameter from flora as f where f.species_name = 'Banksia' or f.species_name = 'Sheoak' or f.species_name = 'Wattle' group by f.species_name, f.observation_date;"
   ]
  },
  {
   "cell_type": "code",
   "execution_count": null,
   "metadata": {},
   "outputs": [],
   "source": [
    "SELECT  f.species_name,\n",
    "        AVG(f.height) AS average_height,\n",
    "        AVG(f.diameter) AS average_diameter\n",
    "   FROM flora AS f\n",
    "  WHERE f.species_name = 'Banksia'\n",
    "     OR f.species_name = 'Sheoak'\n",
    "     OR f.species_name = 'Wattle'\n",
    "  GROUP BY f.species_name, f.observation_date;"
   ]
  },
  {
   "cell_type": "markdown",
   "metadata": {},
   "source": [
    "# CRUD: Create, read, update and delete data"
   ]
  },
  {
   "cell_type": "markdown",
   "metadata": {},
   "source": [
    "## Create table: CREATE TABLE"
   ]
  },
  {
   "cell_type": "code",
   "execution_count": null,
   "metadata": {},
   "outputs": [],
   "source": [
    "CREATE TABLE customers (\n",
    "    id INT,\n",
    "    first_name TEXT,\n",
    "    last_name TEXT,\n",
    "    email TEXT,\n",
    "    gender TEXT,\n",
    "    ip_address TEXT\n",
    ");"
   ]
  },
  {
   "cell_type": "markdown",
   "metadata": {},
   "source": [
    "See https://www.postgresql.org/docs/12/datatype.html for all types in Postgres"
   ]
  },
  {
   "cell_type": "markdown",
   "metadata": {},
   "source": [
    "## Create data: INSERT INTO"
   ]
  },
  {
   "cell_type": "code",
   "execution_count": null,
   "metadata": {},
   "outputs": [],
   "source": [
    "INSERT INTO customers (id, first_name, last_name, email, gender, ip_address)\n",
    "VALUES  (1, 'Arly', 'Llewellin', 'allewellin0@mtv.com', 'Female', '248.43.200.219'),\n",
    "        (2, 'Belita', 'Faulkner', 'bfaulkner1@last.fm', 'Female', '218.205.154.252');"
   ]
  },
  {
   "cell_type": "markdown",
   "metadata": {},
   "source": [
    "Not all fields are required, unless we add constraints (see below)"
   ]
  },
  {
   "cell_type": "code",
   "execution_count": null,
   "metadata": {},
   "outputs": [],
   "source": [
    "INSERT INTO customers (id, last_name, gender)\n",
    "VALUES (3, 'Gadd', 'Male');"
   ]
  },
  {
   "cell_type": "markdown",
   "metadata": {},
   "source": [
    "##### Why types are important"
   ]
  },
  {
   "cell_type": "code",
   "execution_count": null,
   "metadata": {},
   "outputs": [],
   "source": [
    "INSERT INTO customers (id, first_name)\n",
    "VALUES ('Brian', 3)"
   ]
  },
  {
   "cell_type": "markdown",
   "metadata": {},
   "source": [
    "But Postgres typing is not flawless"
   ]
  },
  {
   "cell_type": "code",
   "execution_count": null,
   "metadata": {},
   "outputs": [],
   "source": [
    "INSERT INTO customers (id, first_name)\n",
    "VALUES (3,3)"
   ]
  },
  {
   "cell_type": "markdown",
   "metadata": {},
   "source": [
    "## Constraints\n",
    "\n",
    "Our customers table permits adding customers without a customer id, name or email address <br>\n",
    "Constraints allow us to prevent such behaviour by setting hard requirements on the data"
   ]
  },
  {
   "cell_type": "code",
   "execution_count": null,
   "metadata": {},
   "outputs": [],
   "source": [
    "CREATE TABLE customers_constrained (\n",
    "    id INT UNIQUE NOT NULL,\n",
    "    first_name TEXT NOT NULL,\n",
    "    last_name TEXT NOT NULL,\n",
    "    age INT CHECK (age >= 0),\n",
    "    email TEXT,\n",
    "    gender TEXT,\n",
    "    ip_address TEXT\n",
    ");"
   ]
  },
  {
   "cell_type": "code",
   "execution_count": null,
   "metadata": {},
   "outputs": [],
   "source": [
    "INSERT INTO customers_constrained (id, first_name, last_name, age, email, gender, ip_address)\n",
    "VALUES  (1, 'Arly', 'Llewellin', 32, 'allewellin0@mtv.com', 'Female', '248.43.200.219'),\n",
    "        (2, 'Belita', 'Faulkner', 46, 'bfaulkner1@last.fm', 'Female', '218.205.154.252');"
   ]
  },
  {
   "cell_type": "code",
   "execution_count": null,
   "metadata": {},
   "outputs": [],
   "source": [
    "INSERT INTO customers_constrained (id, last_name, gender) VALUES (3, 'Gadd', 'Male');"
   ]
  },
  {
   "cell_type": "markdown",
   "metadata": {},
   "source": [
    "When we look at joins, two more constraints (primary key and foreign key) will be important"
   ]
  },
  {
   "cell_type": "markdown",
   "metadata": {},
   "source": [
    "## Read data/table: SELECT\n",
    "Use SELECT * to show everything"
   ]
  },
  {
   "cell_type": "code",
   "execution_count": null,
   "metadata": {},
   "outputs": [],
   "source": [
    "SELECT *\n",
    "FROM customers;"
   ]
  },
  {
   "cell_type": "markdown",
   "metadata": {},
   "source": [
    "We can select columns in any order"
   ]
  },
  {
   "cell_type": "code",
   "execution_count": null,
   "metadata": {},
   "outputs": [],
   "source": [
    "SELECT first_name, id, email\n",
    "FROM customers;"
   ]
  },
  {
   "cell_type": "markdown",
   "metadata": {},
   "source": [
    "We can give columns custom names in a query (\"aliasing\")"
   ]
  },
  {
   "cell_type": "code",
   "execution_count": null,
   "metadata": {},
   "outputs": [],
   "source": [
    "SELECT  first_name AS alias_1,\n",
    "        last_name AS alias_2\n",
    "FROM customers;"
   ]
  },
  {
   "cell_type": "markdown",
   "metadata": {},
   "source": [
    "## Update data/table: UPDATE"
   ]
  },
  {
   "cell_type": "code",
   "execution_count": null,
   "metadata": {},
   "outputs": [],
   "source": [
    "UPDATE customers\n",
    "SET gender = 'Male';"
   ]
  },
  {
   "cell_type": "markdown",
   "metadata": {},
   "source": [
    "We can conveniently use arithmetic operations"
   ]
  },
  {
   "cell_type": "code",
   "execution_count": null,
   "metadata": {},
   "outputs": [],
   "source": [
    "UPDATE customers\n",
    "SET id = 2*id + 15;"
   ]
  },
  {
   "cell_type": "markdown",
   "metadata": {},
   "source": [
    "## Delete data: DELETE"
   ]
  },
  {
   "cell_type": "code",
   "execution_count": null,
   "metadata": {},
   "outputs": [],
   "source": [
    "DELETE last_name\n",
    "FROM customers;"
   ]
  },
  {
   "cell_type": "markdown",
   "metadata": {},
   "source": [
    "To delete everything in the table"
   ]
  },
  {
   "cell_type": "code",
   "execution_count": null,
   "metadata": {},
   "outputs": [],
   "source": [
    "DELETE FROM customers"
   ]
  },
  {
   "cell_type": "markdown",
   "metadata": {},
   "source": [
    "## Delete table: DROP TABLE"
   ]
  },
  {
   "cell_type": "code",
   "execution_count": null,
   "metadata": {},
   "outputs": [],
   "source": [
    "DROP TABLE customers"
   ]
  },
  {
   "cell_type": "markdown",
   "metadata": {},
   "source": [
    "# Filtering, sorting, grouping"
   ]
  },
  {
   "cell_type": "markdown",
   "metadata": {},
   "source": [
    "## Filtering results: WHERE clause"
   ]
  },
  {
   "cell_type": "code",
   "execution_count": null,
   "metadata": {},
   "outputs": [],
   "source": [
    "SELECT *\n",
    "FROM customers\n",
    "WHERE first_name = 'Arly';"
   ]
  },
  {
   "cell_type": "markdown",
   "metadata": {},
   "source": [
    "## Sorting results: ORDER BY clause"
   ]
  },
  {
   "cell_type": "code",
   "execution_count": null,
   "metadata": {},
   "outputs": [],
   "source": [
    "SELECT *\n",
    "FROM customers\n",
    "ORDER BY last_name;"
   ]
  },
  {
   "cell_type": "markdown",
   "metadata": {},
   "source": [
    "## Grouping results: GROUP BY clause\n",
    "\n",
    "##### Note: typically used with aggregate functions (follow later)"
   ]
  },
  {
   "cell_type": "code",
   "execution_count": null,
   "metadata": {},
   "outputs": [],
   "source": [
    "SELECT sum(id)\n",
    "FROM customers\n",
    "GROUP BY last_name;"
   ]
  }
 ],
 "metadata": {
  "kernelspec": {
   "display_name": "Python 3",
   "language": "python",
   "name": "python3"
  },
  "language_info": {
   "codemirror_mode": {
    "name": "ipython",
    "version": 3
   },
   "file_extension": ".py",
   "mimetype": "text/x-python",
   "name": "python",
   "nbconvert_exporter": "python",
   "pygments_lexer": "ipython3",
   "version": "3.7.4"
  }
 },
 "nbformat": 4,
 "nbformat_minor": 2
}
