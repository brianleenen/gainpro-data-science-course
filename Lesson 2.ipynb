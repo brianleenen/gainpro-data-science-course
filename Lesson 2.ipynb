{
 "cells": [
  {
   "cell_type": "markdown",
   "metadata": {},
   "source": [
    "# Filtering"
   ]
  },
  {
   "cell_type": "markdown",
   "metadata": {},
   "source": [
    "### LIMIT\n",
    "\n",
    "- In many (testing) settings, we do not actually want our query to print all relevant lines <br>\n",
    "- Say, for example, we want to check that our query returns all BLX assets\n",
    "- Printing only the first e.g. 5 results may suffice to check that the query has the desired behaviour"
   ]
  },
  {
   "cell_type": "code",
   "execution_count": null,
   "metadata": {},
   "outputs": [],
   "source": [
    "SELECT *\n",
    "FROM customers\n",
    "LIMIT 5;"
   ]
  },
  {
   "cell_type": "markdown",
   "metadata": {},
   "source": [
    "### ORDER BY (recap)"
   ]
  },
  {
   "cell_type": "markdown",
   "metadata": {},
   "source": [
    "- We can order records however we like, by a single or by multiple columns\n",
    "- Default sorting order in Postgres is ascending (ASC). For legibility of code, nice to add manually\n",
    "- Use DESC to enforce descending sorting order"
   ]
  },
  {
   "cell_type": "code",
   "execution_count": null,
   "metadata": {},
   "outputs": [],
   "source": [
    "SELECT *\n",
    "FROM customers\n",
    "ORDER BY age ASC, last_name DESC\n",
    "LIMIT 20;"
   ]
  },
  {
   "cell_type": "markdown",
   "metadata": {},
   "source": [
    "### WHERE (recap)"
   ]
  },
  {
   "cell_type": "code",
   "execution_count": null,
   "metadata": {},
   "outputs": [],
   "source": [
    "SELECT *\n",
    "FROM customers\n",
    "WHERE first_name = 'Brian';"
   ]
  },
  {
   "cell_type": "markdown",
   "metadata": {},
   "source": [
    "# Basic mathematics and logic"
   ]
  },
  {
   "cell_type": "markdown",
   "metadata": {},
   "source": [
    "### Arithmetic\n",
    "- In lesson 1 we already saw an application of addition and multiplication"
   ]
  },
  {
   "cell_type": "code",
   "execution_count": null,
   "metadata": {},
   "outputs": [],
   "source": [
    "UPDATE customers\n",
    "SET id = 2*id + 15;"
   ]
  },
  {
   "cell_type": "markdown",
   "metadata": {},
   "source": [
    "- Subtraction and division follow logically. In a very simple query:"
   ]
  },
  {
   "cell_type": "code",
   "execution_count": null,
   "metadata": {},
   "outputs": [],
   "source": [
    "SELECT 6-2;\n",
    "SELECT 6/2;"
   ]
  },
  {
   "cell_type": "markdown",
   "metadata": {},
   "source": [
    "- One thing to be very careful of is <i>integer division</i>\n",
    "- Postgres handles division of integers as some programming languages do: return the integer quotient and ignore the remainder"
   ]
  },
  {
   "cell_type": "code",
   "execution_count": null,
   "metadata": {},
   "outputs": [],
   "source": [
    "SELECT 3/2;"
   ]
  },
  {
   "cell_type": "markdown",
   "metadata": {},
   "source": [
    "- To avoid this behaviour, we have to carefully choose types\n",
    "- If Postgres knows that we are dealing with decimals, then it will treat the numbers as such during e.g. division"
   ]
  },
  {
   "cell_type": "code",
   "execution_count": null,
   "metadata": {},
   "outputs": [],
   "source": [
    "SELECT 3.0/2"
   ]
  },
  {
   "cell_type": "markdown",
   "metadata": {},
   "source": [
    "### A quick note on floating point numbers"
   ]
  },
  {
   "cell_type": "markdown",
   "metadata": {},
   "source": [
    "- As above, you may find that Postgres sometimes returns an odd number when you do arithmetic (e.g. numbers ending in .000000000000 or .9999999999999)\n",
    "- This has to do with how computers store numbers\n",
    "- In some programming languages, whether it happens actually depends on the variable type\n",
    "- Rounding can be a useful tool to avoid ending up with such numbers"
   ]
  },
  {
   "cell_type": "code",
   "execution_count": null,
   "metadata": {},
   "outputs": [],
   "source": [
    "SELECT ROUND(3.0/2, 2);"
   ]
  },
  {
   "cell_type": "markdown",
   "metadata": {},
   "source": [
    "### Other mathematical functions and operators\n",
    "- Postgres contains many other mathematical functions and operators (modulus, exponents, absolute value, ...)\n",
    "- In general, I would prefer using a function to an operator for uncommon operators, abs(-3) is easier to understand than @-3\n",
    "- See https://www.postgresql.org/docs/12/functions-math.html for a full overview"
   ]
  },
  {
   "cell_type": "markdown",
   "metadata": {},
   "source": [
    "### (In)equalities/comparisons"
   ]
  },
  {
   "cell_type": "markdown",
   "metadata": {},
   "source": [
    "The usual inequality operators are all available"
   ]
  },
  {
   "cell_type": "code",
   "execution_count": null,
   "metadata": {},
   "outputs": [],
   "source": [
    "SELECT *\n",
    "FROM customers\n",
    "WHERE age >= 18\n",
    "LIMIT 5;\n",
    "\n",
    "SELECT *\n",
    "FROM customers\n",
    "WHERE age <> 18\n",
    "LIMIT 5;"
   ]
  },
  {
   "cell_type": "markdown",
   "metadata": {},
   "source": [
    "Remember that equality testing uses a single =, == will lead to errors"
   ]
  },
  {
   "cell_type": "code",
   "execution_count": null,
   "metadata": {},
   "outputs": [],
   "source": [
    "SELECT *\n",
    "FROM customers\n",
    "WHERE age = 18\n",
    "LIMIT 5;"
   ]
  },
  {
   "cell_type": "markdown",
   "metadata": {},
   "source": [
    "### Testing NULL\n",
    "- A special case involves testing if a result 'equals' or does not 'equal' NULL <br>\n",
    "- <strong>Always use IS NULL or IS NOT NULL</strong> for this, do not write this test manually (e.g. <> NULL) <br>"
   ]
  },
  {
   "cell_type": "code",
   "execution_count": null,
   "metadata": {},
   "outputs": [],
   "source": [
    "INSERT INTO customers (first_name, last_name)\n",
    "VALUES ('first', 'last');\n",
    "\n",
    "SELECT *\n",
    "FROM customers\n",
    "WHERE first_name = 'first';\n",
    "\n",
    "-- Do not do this!\n",
    "SELECT *\n",
    "FROM customers\n",
    "WHERE age = NULL;"
   ]
  },
  {
   "cell_type": "markdown",
   "metadata": {},
   "source": [
    "- In general, Postgres will tell you that NULL = NULL is false!"
   ]
  },
  {
   "cell_type": "markdown",
   "metadata": {},
   "source": [
    "### Logic: AND, OR, NOT"
   ]
  },
  {
   "cell_type": "code",
   "execution_count": null,
   "metadata": {},
   "outputs": [],
   "source": [
    "SELECT *\n",
    "FROM customers\n",
    "WHERE   age >= 18\n",
    "    AND first_name = 'Brian';"
   ]
  },
  {
   "cell_type": "code",
   "execution_count": null,
   "metadata": {},
   "outputs": [],
   "source": [
    "SELECT *\n",
    "FROM customers\n",
    "WHERE   age >= 18\n",
    "    OR first_name = 'Brian';"
   ]
  },
  {
   "cell_type": "markdown",
   "metadata": {},
   "source": [
    "A condition can be negated explicitly by using NOT"
   ]
  },
  {
   "cell_type": "code",
   "execution_count": null,
   "metadata": {},
   "outputs": [],
   "source": [
    "SELECT *\n",
    "FROM customers\n",
    "WHERE   age >= 18\n",
    "    AND NOT(first_name = 'Brian');"
   ]
  },
  {
   "cell_type": "markdown",
   "metadata": {},
   "source": [
    "### Using ranges: BETWEEN"
   ]
  },
  {
   "cell_type": "markdown",
   "metadata": {},
   "source": [
    "BETWEEN: a convenient way of making queries involving ranges more legible"
   ]
  },
  {
   "cell_type": "code",
   "execution_count": null,
   "metadata": {},
   "outputs": [],
   "source": [
    "SELECT *\n",
    "FROM customers\n",
    "WHERE   age >= 18\n",
    "    AND age <= 30;\n",
    "    \n",
    "SELECT *\n",
    "FROM customers\n",
    "WHERE age BETWEEN 18 AND 30;"
   ]
  },
  {
   "cell_type": "code",
   "execution_count": null,
   "metadata": {},
   "outputs": [],
   "source": [
    "SELECT *\n",
    "FROM customers\n",
    "WHERE  age < 18\n",
    "    OR age > 30;\n",
    "    \n",
    "SELECT *\n",
    "FROM customers\n",
    "WHERE age NOT BETWEEN 18 AND 30;"
   ]
  },
  {
   "cell_type": "markdown",
   "metadata": {},
   "source": [
    "# Basic pattern matching and sets"
   ]
  },
  {
   "cell_type": "markdown",
   "metadata": {},
   "source": [
    "### Pattern matching: LIKE, ILIKE and wildcards"
   ]
  },
  {
   "cell_type": "markdown",
   "metadata": {},
   "source": [
    " - LIKE allows us to filter queries based on <i>similar</i> strings"
   ]
  },
  {
   "cell_type": "code",
   "execution_count": null,
   "metadata": {},
   "outputs": [],
   "source": [
    "SELECT *\n",
    "FROM customers\n",
    "WHERE first_name LIKE 'Brian';"
   ]
  },
  {
   "cell_type": "markdown",
   "metadata": {},
   "source": [
    "- ILIKE is a Postgres-specific extension that also allows for case-insensitive matching"
   ]
  },
  {
   "cell_type": "code",
   "execution_count": null,
   "metadata": {},
   "outputs": [],
   "source": [
    "SELECT *\n",
    "FROM customers\n",
    "WHERE first_name LIKE 'brian';\n",
    "\n",
    "SELECT *\n",
    "FROM customers\n",
    "WHERE first_name ILIKE 'brian';"
   ]
  },
  {
   "cell_type": "markdown",
   "metadata": {},
   "source": [
    "- The power of pattern matching is in the use of 'wildcards'; without them, LIKE is not different from =\n",
    "- Wildcards are 'placeholders' that allow any value, making it very easy to match strings that contain <i>something</i>\n",
    "- Postgres has two wildcards: underscore _ is a placeholder for a single character, percentage sign % is a placeholder for any number of characters"
   ]
  },
  {
   "cell_type": "code",
   "execution_count": null,
   "metadata": {},
   "outputs": [],
   "source": [
    "SELECT *\n",
    "FROM customers\n",
    "WHERE first_name LIKE 'Bria_';\n",
    "\n",
    "SELECT *\n",
    "FROM customers\n",
    "WHERE first_name LIKE 'Bri__';\n",
    "\n",
    "SELECT *\n",
    "FROM customers\n",
    "WHERE first_name LIKE 'Bri%';\n",
    "\n",
    "SELECT *\n",
    "FROM customers\n",
    "WHERE first_name LIKE '%ri%';"
   ]
  },
  {
   "cell_type": "markdown",
   "metadata": {},
   "source": [
    "- Wildcards allow us to make some fairly elaborate filters\n",
    "- Find any email address with a 6-character account name, ending in .org:"
   ]
  },
  {
   "cell_type": "code",
   "execution_count": null,
   "metadata": {},
   "outputs": [],
   "source": [
    "SELECT *\n",
    "FROM customers\n",
    "WHERE email LIKE '______@%.org'"
   ]
  },
  {
   "cell_type": "markdown",
   "metadata": {},
   "source": [
    "- As before, we can use NOT to explicitly avoid returning a pattern"
   ]
  },
  {
   "cell_type": "code",
   "execution_count": null,
   "metadata": {},
   "outputs": [],
   "source": [
    "SELECT *\n",
    "FROM customers\n",
    "WHERE first_name NOT LIKE 'Bri%'\n",
    "LIMIT 5;"
   ]
  },
  {
   "cell_type": "markdown",
   "metadata": {},
   "source": [
    "### Escape characters\n",
    "- How do we find strings that actually a percentage sign?\n",
    "- For this we use the backward slash \\ as 'escape character'\n",
    "- The escape character tells Postgres that we want it to interpret the % literally"
   ]
  },
  {
   "cell_type": "code",
   "execution_count": null,
   "metadata": {},
   "outputs": [],
   "source": [
    "INSERT INTO customers (first_name) VALUES ('aa%bb');\n",
    "\n",
    "SELECT *\n",
    "FROM customers\n",
    "WHERE first_name LIKE '%\\%%';"
   ]
  },
  {
   "cell_type": "markdown",
   "metadata": {},
   "source": [
    "Question: how do we now go about finding strings that contain a '\\\\'?"
   ]
  },
  {
   "cell_type": "markdown",
   "metadata": {},
   "source": [
    "### Using sets: IN and ANY\n",
    "- The OR keyword we have seen thus far can become quite cumbersome to use\n",
    "- IN is a more convenient and legible way of allowing multiple values"
   ]
  },
  {
   "cell_type": "code",
   "execution_count": null,
   "metadata": {},
   "outputs": [],
   "source": [
    "SELECT *\n",
    "FROM customers\n",
    "WHERE first_name = 'Tyler' OR first_name = 'Claudia';\n",
    "\n",
    "SELECT *\n",
    "FROM customers\n",
    "WHERE first_name IN ('Tyler', 'Claudia', 'Brian')"
   ]
  },
  {
   "cell_type": "markdown",
   "metadata": {},
   "source": [
    "(Slightly more advanced)\n",
    "- As an alternative for IN we can use ANY\n",
    "- ANY is more flexible than IN: it allows for more than just equalities\n",
    "- This can be very useful if combined with LIKE\n",
    "- Unlike IN, we must pass an array to ANY, because ANY takes a single column as input"
   ]
  },
  {
   "cell_type": "markdown",
   "metadata": {},
   "source": [
    "SELECT *\n",
    "FROM customers\n",
    "WHERE first_name = ANY (ARRAY['Tyler', 'Claudia', 'Brian'])\n",
    "\n",
    "SELECT *\n",
    "FROM customers\n",
    "WHERE last_name LIKE ANY (ARRAY['%Mc%', '%Mac%'])"
   ]
  }
 ],
 "metadata": {
  "kernelspec": {
   "display_name": "Python 3",
   "language": "python",
   "name": "python3"
  },
  "language_info": {
   "codemirror_mode": {
    "name": "ipython",
    "version": 3
   },
   "file_extension": ".py",
   "mimetype": "text/x-python",
   "name": "python",
   "nbconvert_exporter": "python",
   "pygments_lexer": "ipython3",
   "version": "3.7.4"
  }
 },
 "nbformat": 4,
 "nbformat_minor": 2
}
